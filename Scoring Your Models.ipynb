{
 "cells": [
  {
   "cell_type": "markdown",
   "metadata": {},
   "source": [
    "# Scoring Your Models\n",
    "\n",
    "The evaluation metric for this competition is the _Quadratic Weighted Kappa_. This is the same as the Cohen Kappa Score found in Scikit Learn. There are two ways to use it to score your models. You can import the `metrics` module I've created in the github, or use the original function. If you use the original, remember to pass the `weights='quadratic'` argument."
   ]
  },
  {
   "cell_type": "code",
   "execution_count": 1,
   "metadata": {},
   "outputs": [],
   "source": [
    "import sys                ## need this line so this notebook can import from the metrics folder\n",
    "sys.path.append('..')     ## if your notebook is in your 'personal' folder "
   ]
  },
  {
   "cell_type": "code",
   "execution_count": 3,
   "metadata": {},
   "outputs": [],
   "source": [
    "import metrics.quadratic_weighted_kappa as score\n",
    "from sklearn.metrics import cohen_kappa_score\n",
    "\n",
    "import pandas as pd\n",
    "import numpy as np"
   ]
  },
  {
   "cell_type": "code",
   "execution_count": 36,
   "metadata": {},
   "outputs": [
    {
     "data": {
      "text/html": [
       "<div>\n",
       "<style scoped>\n",
       "    .dataframe tbody tr th:only-of-type {\n",
       "        vertical-align: middle;\n",
       "    }\n",
       "\n",
       "    .dataframe tbody tr th {\n",
       "        vertical-align: top;\n",
       "    }\n",
       "\n",
       "    .dataframe thead th {\n",
       "        text-align: right;\n",
       "    }\n",
       "</style>\n",
       "<table border=\"1\" class=\"dataframe\">\n",
       "  <thead>\n",
       "    <tr style=\"text-align: right;\">\n",
       "      <th></th>\n",
       "      <th>game_session</th>\n",
       "      <th>installation_id</th>\n",
       "      <th>title</th>\n",
       "      <th>num_correct</th>\n",
       "      <th>num_incorrect</th>\n",
       "      <th>accuracy</th>\n",
       "      <th>accuracy_group</th>\n",
       "    </tr>\n",
       "  </thead>\n",
       "  <tbody>\n",
       "    <tr>\n",
       "      <th>0</th>\n",
       "      <td>6bdf9623adc94d89</td>\n",
       "      <td>0006a69f</td>\n",
       "      <td>Mushroom Sorter (Assessment)</td>\n",
       "      <td>1</td>\n",
       "      <td>0</td>\n",
       "      <td>1.0</td>\n",
       "      <td>3</td>\n",
       "    </tr>\n",
       "    <tr>\n",
       "      <th>1</th>\n",
       "      <td>77b8ee947eb84b4e</td>\n",
       "      <td>0006a69f</td>\n",
       "      <td>Bird Measurer (Assessment)</td>\n",
       "      <td>0</td>\n",
       "      <td>11</td>\n",
       "      <td>0.0</td>\n",
       "      <td>0</td>\n",
       "    </tr>\n",
       "    <tr>\n",
       "      <th>2</th>\n",
       "      <td>901acc108f55a5a1</td>\n",
       "      <td>0006a69f</td>\n",
       "      <td>Mushroom Sorter (Assessment)</td>\n",
       "      <td>1</td>\n",
       "      <td>0</td>\n",
       "      <td>1.0</td>\n",
       "      <td>3</td>\n",
       "    </tr>\n",
       "    <tr>\n",
       "      <th>3</th>\n",
       "      <td>9501794defd84e4d</td>\n",
       "      <td>0006a69f</td>\n",
       "      <td>Mushroom Sorter (Assessment)</td>\n",
       "      <td>1</td>\n",
       "      <td>1</td>\n",
       "      <td>0.5</td>\n",
       "      <td>2</td>\n",
       "    </tr>\n",
       "    <tr>\n",
       "      <th>4</th>\n",
       "      <td>a9ef3ecb3d1acc6a</td>\n",
       "      <td>0006a69f</td>\n",
       "      <td>Bird Measurer (Assessment)</td>\n",
       "      <td>1</td>\n",
       "      <td>0</td>\n",
       "      <td>1.0</td>\n",
       "      <td>3</td>\n",
       "    </tr>\n",
       "  </tbody>\n",
       "</table>\n",
       "</div>"
      ],
      "text/plain": [
       "       game_session installation_id                         title  \\\n",
       "0  6bdf9623adc94d89        0006a69f  Mushroom Sorter (Assessment)   \n",
       "1  77b8ee947eb84b4e        0006a69f    Bird Measurer (Assessment)   \n",
       "2  901acc108f55a5a1        0006a69f  Mushroom Sorter (Assessment)   \n",
       "3  9501794defd84e4d        0006a69f  Mushroom Sorter (Assessment)   \n",
       "4  a9ef3ecb3d1acc6a        0006a69f    Bird Measurer (Assessment)   \n",
       "\n",
       "   num_correct  num_incorrect  accuracy  accuracy_group  \n",
       "0            1              0       1.0               3  \n",
       "1            0             11       0.0               0  \n",
       "2            1              0       1.0               3  \n",
       "3            1              1       0.5               2  \n",
       "4            1              0       1.0               3  "
      ]
     },
     "execution_count": 36,
     "metadata": {},
     "output_type": "execute_result"
    }
   ],
   "source": [
    "df = pd.read_csv('../data/train_labels.csv')\n",
    "df.head()"
   ]
  },
  {
   "cell_type": "markdown",
   "metadata": {},
   "source": [
    "Set some random guesses and score using the function from the metrics folder"
   ]
  },
  {
   "cell_type": "code",
   "execution_count": 52,
   "metadata": {},
   "outputs": [
    {
     "data": {
      "text/plain": [
       "0.013138387187413225"
      ]
     },
     "execution_count": 52,
     "metadata": {},
     "output_type": "execute_result"
    }
   ],
   "source": [
    "preds = np.random.randint(0, 5, size=(len(df),1))\n",
    "score.quadratic_weighted_kappa(df['accuracy_group'], preds)"
   ]
  },
  {
   "cell_type": "markdown",
   "metadata": {},
   "source": [
    "Compare to the score using the function from the sklearn library and the `weights` argument."
   ]
  },
  {
   "cell_type": "code",
   "execution_count": 53,
   "metadata": {},
   "outputs": [
    {
     "data": {
      "text/plain": [
       "0.013138387187413225"
      ]
     },
     "execution_count": 53,
     "metadata": {},
     "output_type": "execute_result"
    }
   ],
   "source": [
    "cohen_kappa_score(df['accuracy_group'], preds, weights='quadratic')"
   ]
  },
  {
   "cell_type": "markdown",
   "metadata": {},
   "source": [
    "***"
   ]
  }
 ],
 "metadata": {
  "kernelspec": {
   "display_name": "Python 3",
   "language": "python",
   "name": "python3"
  },
  "language_info": {
   "codemirror_mode": {
    "name": "ipython",
    "version": 3
   },
   "file_extension": ".py",
   "mimetype": "text/x-python",
   "name": "python",
   "nbconvert_exporter": "python",
   "pygments_lexer": "ipython3",
   "version": "3.7.1"
  }
 },
 "nbformat": 4,
 "nbformat_minor": 2
}
