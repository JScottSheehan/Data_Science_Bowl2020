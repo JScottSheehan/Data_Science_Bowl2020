{
 "cells": [
  {
   "cell_type": "code",
   "execution_count": 4,
   "metadata": {},
   "outputs": [],
   "source": [
    "import pandas as pd\n",
    "import numpy as np"
   ]
  },
  {
   "cell_type": "code",
   "execution_count": 5,
   "metadata": {},
   "outputs": [],
   "source": [
    "train = pd.read_csv('../data/train.csv')\n",
    "train_labels = pd.read_csv('../data/train_labels.csv')\n",
    "test = pd.read_csv('../data/test.csv')\n",
    "sample_submission = pd.read_csv('../data/sample_submission.csv')"
   ]
  },
  {
   "cell_type": "code",
   "execution_count": 6,
   "metadata": {},
   "outputs": [
    {
     "data": {
      "text/plain": [
       "(11341042, 11)"
      ]
     },
     "execution_count": 6,
     "metadata": {},
     "output_type": "execute_result"
    }
   ],
   "source": [
    "train.shape"
   ]
  },
  {
   "cell_type": "code",
   "execution_count": 7,
   "metadata": {},
   "outputs": [
    {
     "data": {
      "text/html": [
       "<div>\n",
       "<style scoped>\n",
       "    .dataframe tbody tr th:only-of-type {\n",
       "        vertical-align: middle;\n",
       "    }\n",
       "\n",
       "    .dataframe tbody tr th {\n",
       "        vertical-align: top;\n",
       "    }\n",
       "\n",
       "    .dataframe thead th {\n",
       "        text-align: right;\n",
       "    }\n",
       "</style>\n",
       "<table border=\"1\" class=\"dataframe\">\n",
       "  <thead>\n",
       "    <tr style=\"text-align: right;\">\n",
       "      <th></th>\n",
       "      <th>event_id</th>\n",
       "      <th>game_session</th>\n",
       "      <th>timestamp</th>\n",
       "      <th>event_data</th>\n",
       "      <th>installation_id</th>\n",
       "      <th>event_count</th>\n",
       "      <th>event_code</th>\n",
       "      <th>game_time</th>\n",
       "      <th>title</th>\n",
       "      <th>type</th>\n",
       "      <th>world</th>\n",
       "    </tr>\n",
       "  </thead>\n",
       "  <tbody>\n",
       "    <tr>\n",
       "      <th>0</th>\n",
       "      <td>27253bdc</td>\n",
       "      <td>45bb1e1b6b50c07b</td>\n",
       "      <td>2019-09-06T17:53:46.937Z</td>\n",
       "      <td>{\"event_code\": 2000, \"event_count\": 1}</td>\n",
       "      <td>0001e90f</td>\n",
       "      <td>1</td>\n",
       "      <td>2000</td>\n",
       "      <td>0</td>\n",
       "      <td>Welcome to Lost Lagoon!</td>\n",
       "      <td>Clip</td>\n",
       "      <td>NONE</td>\n",
       "    </tr>\n",
       "    <tr>\n",
       "      <th>1</th>\n",
       "      <td>27253bdc</td>\n",
       "      <td>17eeb7f223665f53</td>\n",
       "      <td>2019-09-06T17:54:17.519Z</td>\n",
       "      <td>{\"event_code\": 2000, \"event_count\": 1}</td>\n",
       "      <td>0001e90f</td>\n",
       "      <td>1</td>\n",
       "      <td>2000</td>\n",
       "      <td>0</td>\n",
       "      <td>Magma Peak - Level 1</td>\n",
       "      <td>Clip</td>\n",
       "      <td>MAGMAPEAK</td>\n",
       "    </tr>\n",
       "    <tr>\n",
       "      <th>2</th>\n",
       "      <td>77261ab5</td>\n",
       "      <td>0848ef14a8dc6892</td>\n",
       "      <td>2019-09-06T17:54:56.302Z</td>\n",
       "      <td>{\"version\":\"1.0\",\"event_count\":1,\"game_time\":0...</td>\n",
       "      <td>0001e90f</td>\n",
       "      <td>1</td>\n",
       "      <td>2000</td>\n",
       "      <td>0</td>\n",
       "      <td>Sandcastle Builder (Activity)</td>\n",
       "      <td>Activity</td>\n",
       "      <td>MAGMAPEAK</td>\n",
       "    </tr>\n",
       "    <tr>\n",
       "      <th>3</th>\n",
       "      <td>b2dba42b</td>\n",
       "      <td>0848ef14a8dc6892</td>\n",
       "      <td>2019-09-06T17:54:56.387Z</td>\n",
       "      <td>{\"description\":\"Let's build a sandcastle! Firs...</td>\n",
       "      <td>0001e90f</td>\n",
       "      <td>2</td>\n",
       "      <td>3010</td>\n",
       "      <td>53</td>\n",
       "      <td>Sandcastle Builder (Activity)</td>\n",
       "      <td>Activity</td>\n",
       "      <td>MAGMAPEAK</td>\n",
       "    </tr>\n",
       "    <tr>\n",
       "      <th>4</th>\n",
       "      <td>1bb5fbdb</td>\n",
       "      <td>0848ef14a8dc6892</td>\n",
       "      <td>2019-09-06T17:55:03.253Z</td>\n",
       "      <td>{\"description\":\"Let's build a sandcastle! Firs...</td>\n",
       "      <td>0001e90f</td>\n",
       "      <td>3</td>\n",
       "      <td>3110</td>\n",
       "      <td>6972</td>\n",
       "      <td>Sandcastle Builder (Activity)</td>\n",
       "      <td>Activity</td>\n",
       "      <td>MAGMAPEAK</td>\n",
       "    </tr>\n",
       "  </tbody>\n",
       "</table>\n",
       "</div>"
      ],
      "text/plain": [
       "   event_id      game_session                 timestamp  \\\n",
       "0  27253bdc  45bb1e1b6b50c07b  2019-09-06T17:53:46.937Z   \n",
       "1  27253bdc  17eeb7f223665f53  2019-09-06T17:54:17.519Z   \n",
       "2  77261ab5  0848ef14a8dc6892  2019-09-06T17:54:56.302Z   \n",
       "3  b2dba42b  0848ef14a8dc6892  2019-09-06T17:54:56.387Z   \n",
       "4  1bb5fbdb  0848ef14a8dc6892  2019-09-06T17:55:03.253Z   \n",
       "\n",
       "                                          event_data installation_id  \\\n",
       "0             {\"event_code\": 2000, \"event_count\": 1}        0001e90f   \n",
       "1             {\"event_code\": 2000, \"event_count\": 1}        0001e90f   \n",
       "2  {\"version\":\"1.0\",\"event_count\":1,\"game_time\":0...        0001e90f   \n",
       "3  {\"description\":\"Let's build a sandcastle! Firs...        0001e90f   \n",
       "4  {\"description\":\"Let's build a sandcastle! Firs...        0001e90f   \n",
       "\n",
       "   event_count  event_code  game_time                          title  \\\n",
       "0            1        2000          0        Welcome to Lost Lagoon!   \n",
       "1            1        2000          0           Magma Peak - Level 1   \n",
       "2            1        2000          0  Sandcastle Builder (Activity)   \n",
       "3            2        3010         53  Sandcastle Builder (Activity)   \n",
       "4            3        3110       6972  Sandcastle Builder (Activity)   \n",
       "\n",
       "       type      world  \n",
       "0      Clip       NONE  \n",
       "1      Clip  MAGMAPEAK  \n",
       "2  Activity  MAGMAPEAK  \n",
       "3  Activity  MAGMAPEAK  \n",
       "4  Activity  MAGMAPEAK  "
      ]
     },
     "execution_count": 7,
     "metadata": {},
     "output_type": "execute_result"
    }
   ],
   "source": [
    "train.head()"
   ]
  },
  {
   "cell_type": "code",
   "execution_count": null,
   "metadata": {},
   "outputs": [],
   "source": [
    "##Data Cleaning"
   ]
  },
  {
   "cell_type": "code",
   "execution_count": 36,
   "metadata": {},
   "outputs": [
    {
     "data": {
      "text/plain": [
       "(8294138, 11)"
      ]
     },
     "execution_count": 36,
     "metadata": {},
     "output_type": "execute_result"
    }
   ],
   "source": [
    "assessed_ids = train[train['type'] == 'Assessment']['installation_id'].unique()\n",
    "train = train[train['installation_id'].isin(assessed_ids)]\n",
    "train.shape"
   ]
  },
  {
   "cell_type": "code",
   "execution_count": 37,
   "metadata": {},
   "outputs": [
    {
     "data": {
      "text/plain": [
       "(7734558, 11)"
      ]
     },
     "execution_count": 37,
     "metadata": {},
     "output_type": "execute_result"
    }
   ],
   "source": [
    "labeled_ids = train_labels['installation_id'].unique()\n",
    "train = train[train['installation_id'].isin(labeled_ids)]\n",
    "train.shape"
   ]
  },
  {
   "cell_type": "code",
   "execution_count": 38,
   "metadata": {},
   "outputs": [],
   "source": [
    "train['timestamp'] = pd.to_datetime(train['timestamp'])\n",
    "train.sort_values(['installation_id', 'timestamp'], inplace=True)"
   ]
  },
  {
   "cell_type": "code",
   "execution_count": 39,
   "metadata": {},
   "outputs": [
    {
     "data": {
      "text/html": [
       "<div>\n",
       "<style scoped>\n",
       "    .dataframe tbody tr th:only-of-type {\n",
       "        vertical-align: middle;\n",
       "    }\n",
       "\n",
       "    .dataframe tbody tr th {\n",
       "        vertical-align: top;\n",
       "    }\n",
       "\n",
       "    .dataframe thead th {\n",
       "        text-align: right;\n",
       "    }\n",
       "</style>\n",
       "<table border=\"1\" class=\"dataframe\">\n",
       "  <thead>\n",
       "    <tr style=\"text-align: right;\">\n",
       "      <th></th>\n",
       "      <th>event_id</th>\n",
       "      <th>game_session</th>\n",
       "      <th>timestamp</th>\n",
       "      <th>event_data</th>\n",
       "      <th>installation_id</th>\n",
       "      <th>event_count</th>\n",
       "      <th>event_code</th>\n",
       "      <th>game_time</th>\n",
       "      <th>title</th>\n",
       "      <th>type</th>\n",
       "      <th>world</th>\n",
       "    </tr>\n",
       "  </thead>\n",
       "  <tbody>\n",
       "    <tr>\n",
       "      <th>1538</th>\n",
       "      <td>27253bdc</td>\n",
       "      <td>34ba1a28d02ba8ba</td>\n",
       "      <td>2019-08-06 04:57:18.904000+00:00</td>\n",
       "      <td>{\"event_code\": 2000, \"event_count\": 1}</td>\n",
       "      <td>0006a69f</td>\n",
       "      <td>1</td>\n",
       "      <td>2000</td>\n",
       "      <td>0</td>\n",
       "      <td>Welcome to Lost Lagoon!</td>\n",
       "      <td>Clip</td>\n",
       "      <td>NONE</td>\n",
       "    </tr>\n",
       "    <tr>\n",
       "      <th>1539</th>\n",
       "      <td>27253bdc</td>\n",
       "      <td>4b57c9a59474a1b9</td>\n",
       "      <td>2019-08-06 04:57:45.301000+00:00</td>\n",
       "      <td>{\"event_code\": 2000, \"event_count\": 1}</td>\n",
       "      <td>0006a69f</td>\n",
       "      <td>1</td>\n",
       "      <td>2000</td>\n",
       "      <td>0</td>\n",
       "      <td>Magma Peak - Level 1</td>\n",
       "      <td>Clip</td>\n",
       "      <td>MAGMAPEAK</td>\n",
       "    </tr>\n",
       "    <tr>\n",
       "      <th>1540</th>\n",
       "      <td>77261ab5</td>\n",
       "      <td>2b9d5af79bcdb79f</td>\n",
       "      <td>2019-08-06 04:58:14.538000+00:00</td>\n",
       "      <td>{\"version\":\"1.0\",\"event_count\":1,\"game_time\":0...</td>\n",
       "      <td>0006a69f</td>\n",
       "      <td>1</td>\n",
       "      <td>2000</td>\n",
       "      <td>0</td>\n",
       "      <td>Sandcastle Builder (Activity)</td>\n",
       "      <td>Activity</td>\n",
       "      <td>MAGMAPEAK</td>\n",
       "    </tr>\n",
       "    <tr>\n",
       "      <th>1541</th>\n",
       "      <td>b2dba42b</td>\n",
       "      <td>2b9d5af79bcdb79f</td>\n",
       "      <td>2019-08-06 04:58:14.615000+00:00</td>\n",
       "      <td>{\"description\":\"Let's build a sandcastle! Firs...</td>\n",
       "      <td>0006a69f</td>\n",
       "      <td>2</td>\n",
       "      <td>3010</td>\n",
       "      <td>29</td>\n",
       "      <td>Sandcastle Builder (Activity)</td>\n",
       "      <td>Activity</td>\n",
       "      <td>MAGMAPEAK</td>\n",
       "    </tr>\n",
       "    <tr>\n",
       "      <th>1542</th>\n",
       "      <td>1325467d</td>\n",
       "      <td>2b9d5af79bcdb79f</td>\n",
       "      <td>2019-08-06 04:58:16.680000+00:00</td>\n",
       "      <td>{\"coordinates\":{\"x\":273,\"y\":650,\"stage_width\":...</td>\n",
       "      <td>0006a69f</td>\n",
       "      <td>3</td>\n",
       "      <td>4070</td>\n",
       "      <td>2137</td>\n",
       "      <td>Sandcastle Builder (Activity)</td>\n",
       "      <td>Activity</td>\n",
       "      <td>MAGMAPEAK</td>\n",
       "    </tr>\n",
       "  </tbody>\n",
       "</table>\n",
       "</div>"
      ],
      "text/plain": [
       "      event_id      game_session                        timestamp  \\\n",
       "1538  27253bdc  34ba1a28d02ba8ba 2019-08-06 04:57:18.904000+00:00   \n",
       "1539  27253bdc  4b57c9a59474a1b9 2019-08-06 04:57:45.301000+00:00   \n",
       "1540  77261ab5  2b9d5af79bcdb79f 2019-08-06 04:58:14.538000+00:00   \n",
       "1541  b2dba42b  2b9d5af79bcdb79f 2019-08-06 04:58:14.615000+00:00   \n",
       "1542  1325467d  2b9d5af79bcdb79f 2019-08-06 04:58:16.680000+00:00   \n",
       "\n",
       "                                             event_data installation_id  \\\n",
       "1538             {\"event_code\": 2000, \"event_count\": 1}        0006a69f   \n",
       "1539             {\"event_code\": 2000, \"event_count\": 1}        0006a69f   \n",
       "1540  {\"version\":\"1.0\",\"event_count\":1,\"game_time\":0...        0006a69f   \n",
       "1541  {\"description\":\"Let's build a sandcastle! Firs...        0006a69f   \n",
       "1542  {\"coordinates\":{\"x\":273,\"y\":650,\"stage_width\":...        0006a69f   \n",
       "\n",
       "      event_count  event_code  game_time                          title  \\\n",
       "1538            1        2000          0        Welcome to Lost Lagoon!   \n",
       "1539            1        2000          0           Magma Peak - Level 1   \n",
       "1540            1        2000          0  Sandcastle Builder (Activity)   \n",
       "1541            2        3010         29  Sandcastle Builder (Activity)   \n",
       "1542            3        4070       2137  Sandcastle Builder (Activity)   \n",
       "\n",
       "          type      world  \n",
       "1538      Clip       NONE  \n",
       "1539      Clip  MAGMAPEAK  \n",
       "1540  Activity  MAGMAPEAK  \n",
       "1541  Activity  MAGMAPEAK  \n",
       "1542  Activity  MAGMAPEAK  "
      ]
     },
     "execution_count": 39,
     "metadata": {},
     "output_type": "execute_result"
    }
   ],
   "source": [
    "train.head()"
   ]
  },
  {
   "cell_type": "code",
   "execution_count": 40,
   "metadata": {},
   "outputs": [
    {
     "data": {
      "text/plain": [
       "4229"
      ]
     },
     "execution_count": 40,
     "metadata": {},
     "output_type": "execute_result"
    }
   ],
   "source": [
    "#total number of misses\n",
    "\n",
    "total_number_of_misses = (train_labels['num_correct'].values == 0).sum()\n",
    "total_number_of_misses"
   ]
  },
  {
   "cell_type": "code",
   "execution_count": 41,
   "metadata": {},
   "outputs": [],
   "source": [
    "def total_number_of_misses (df):\n",
    "    total_number_of_misses = (train_labels['num_correct'].values == 0).sum()\n",
    "    return total_number_of_misses"
   ]
  },
  {
   "cell_type": "code",
   "execution_count": 42,
   "metadata": {},
   "outputs": [
    {
     "data": {
      "text/plain": [
       "0.2390616167326173"
      ]
     },
     "execution_count": 42,
     "metadata": {},
     "output_type": "execute_result"
    }
   ],
   "source": [
    "#percentage of misses - pretty convoluted\n",
    "\n",
    "percentage_of_misses = ((train_labels['num_correct'].values == 0).sum())/(((train_labels['num_correct'].values == 1).sum())+((train_labels['num_correct'].values == 0).sum()))\n",
    "percentage_of_misses"
   ]
  },
  {
   "cell_type": "code",
   "execution_count": 43,
   "metadata": {},
   "outputs": [],
   "source": [
    "def percentage_of_misses (df):\n",
    "    percentage_misses = ((train_labels['num_correct'].values == 0).sum())/(((train_labels['num_correct'].values == 1).sum())+((train_labels['num_correct'].values == 0).sum()))\n",
    "    return percentage_misses"
   ]
  },
  {
   "cell_type": "code",
   "execution_count": null,
   "metadata": {},
   "outputs": [],
   "source": []
  },
  {
   "cell_type": "code",
   "execution_count": 44,
   "metadata": {},
   "outputs": [],
   "source": [
    "from datetime import datetime, timedelta"
   ]
  },
  {
   "cell_type": "code",
   "execution_count": 45,
   "metadata": {},
   "outputs": [
    {
     "data": {
      "text/plain": [
       "datetime.time(7, 45)"
      ]
     },
     "execution_count": 45,
     "metadata": {},
     "output_type": "execute_result"
    }
   ],
   "source": [
    "start_time = datetime(2019, 9, 5, 7, 45).time()\n",
    "start_time"
   ]
  },
  {
   "cell_type": "code",
   "execution_count": 46,
   "metadata": {},
   "outputs": [
    {
     "data": {
      "text/plain": [
       "datetime.time(15, 30)"
      ]
     },
     "execution_count": 46,
     "metadata": {},
     "output_type": "execute_result"
    }
   ],
   "source": [
    "end_time = datetime(2019, 9, 6, 15, 30).time()\n",
    "end_time"
   ]
  },
  {
   "cell_type": "code",
   "execution_count": 47,
   "metadata": {},
   "outputs": [],
   "source": [
    "def num_events_during_school_hours(df):\n",
    "    start_time = datetime(2019, 9, 5, 7, 45).time()\n",
    "    end_time = datetime(2019, 9, 6, 15, 30).time()\n",
    "    df.index = df['timestamp']\n",
    "    df = df.between_time(start_time, end_time).reset_index(drop=True)\n",
    "    return len(df)"
   ]
  },
  {
   "cell_type": "code",
   "execution_count": 48,
   "metadata": {},
   "outputs": [
    {
     "data": {
      "text/html": [
       "<div>\n",
       "<style scoped>\n",
       "    .dataframe tbody tr th:only-of-type {\n",
       "        vertical-align: middle;\n",
       "    }\n",
       "\n",
       "    .dataframe tbody tr th {\n",
       "        vertical-align: top;\n",
       "    }\n",
       "\n",
       "    .dataframe thead th {\n",
       "        text-align: right;\n",
       "    }\n",
       "</style>\n",
       "<table border=\"1\" class=\"dataframe\">\n",
       "  <thead>\n",
       "    <tr style=\"text-align: right;\">\n",
       "      <th></th>\n",
       "      <th>event_id</th>\n",
       "      <th>game_session</th>\n",
       "      <th>timestamp</th>\n",
       "      <th>event_data</th>\n",
       "      <th>installation_id</th>\n",
       "      <th>event_count</th>\n",
       "      <th>event_code</th>\n",
       "      <th>game_time</th>\n",
       "      <th>title</th>\n",
       "      <th>type</th>\n",
       "      <th>world</th>\n",
       "    </tr>\n",
       "  </thead>\n",
       "  <tbody>\n",
       "    <tr>\n",
       "      <th>0</th>\n",
       "      <td>27253bdc</td>\n",
       "      <td>a9fbd6119581ac51</td>\n",
       "      <td>2019-09-14 15:04:34.845000+00:00</td>\n",
       "      <td>{\"event_code\": 2000, \"event_count\": 1}</td>\n",
       "      <td>0006c192</td>\n",
       "      <td>1</td>\n",
       "      <td>2000</td>\n",
       "      <td>0</td>\n",
       "      <td>Welcome to Lost Lagoon!</td>\n",
       "      <td>Clip</td>\n",
       "      <td>NONE</td>\n",
       "    </tr>\n",
       "    <tr>\n",
       "      <th>1</th>\n",
       "      <td>27253bdc</td>\n",
       "      <td>bbc818719db7d1f8</td>\n",
       "      <td>2019-09-14 15:04:55.292000+00:00</td>\n",
       "      <td>{\"event_code\": 2000, \"event_count\": 1}</td>\n",
       "      <td>0006c192</td>\n",
       "      <td>1</td>\n",
       "      <td>2000</td>\n",
       "      <td>0</td>\n",
       "      <td>Tree Top City - Level 1</td>\n",
       "      <td>Clip</td>\n",
       "      <td>TREETOPCITY</td>\n",
       "    </tr>\n",
       "    <tr>\n",
       "      <th>2</th>\n",
       "      <td>c7f7f0e1</td>\n",
       "      <td>e6298f19b82e25a4</td>\n",
       "      <td>2019-09-14 15:05:30.976000+00:00</td>\n",
       "      <td>{\"version\":\"1.0\",\"event_count\":1,\"game_time\":0...</td>\n",
       "      <td>0006c192</td>\n",
       "      <td>1</td>\n",
       "      <td>2000</td>\n",
       "      <td>0</td>\n",
       "      <td>Bug Measurer (Activity)</td>\n",
       "      <td>Activity</td>\n",
       "      <td>TREETOPCITY</td>\n",
       "    </tr>\n",
       "    <tr>\n",
       "      <th>3</th>\n",
       "      <td>0a08139c</td>\n",
       "      <td>e6298f19b82e25a4</td>\n",
       "      <td>2019-09-14 15:05:31.196000+00:00</td>\n",
       "      <td>{\"description\":\"walk_in Check it out! This is ...</td>\n",
       "      <td>0006c192</td>\n",
       "      <td>2</td>\n",
       "      <td>3010</td>\n",
       "      <td>246</td>\n",
       "      <td>Bug Measurer (Activity)</td>\n",
       "      <td>Activity</td>\n",
       "      <td>TREETOPCITY</td>\n",
       "    </tr>\n",
       "    <tr>\n",
       "      <th>4</th>\n",
       "      <td>e79f3763</td>\n",
       "      <td>e6298f19b82e25a4</td>\n",
       "      <td>2019-09-14 15:05:32.986000+00:00</td>\n",
       "      <td>{\"bug\":\"caterpillar\",\"source\":\"resources\",\"coo...</td>\n",
       "      <td>0006c192</td>\n",
       "      <td>3</td>\n",
       "      <td>4030</td>\n",
       "      <td>2101</td>\n",
       "      <td>Bug Measurer (Activity)</td>\n",
       "      <td>Activity</td>\n",
       "      <td>TREETOPCITY</td>\n",
       "    </tr>\n",
       "    <tr>\n",
       "      <th>...</th>\n",
       "      <td>...</td>\n",
       "      <td>...</td>\n",
       "      <td>...</td>\n",
       "      <td>...</td>\n",
       "      <td>...</td>\n",
       "      <td>...</td>\n",
       "      <td>...</td>\n",
       "      <td>...</td>\n",
       "      <td>...</td>\n",
       "      <td>...</td>\n",
       "      <td>...</td>\n",
       "    </tr>\n",
       "    <tr>\n",
       "      <th>1697633</th>\n",
       "      <td>15a43e5b</td>\n",
       "      <td>55ae180cd1d87496</td>\n",
       "      <td>2019-08-07 13:20:34.604000+00:00</td>\n",
       "      <td>{\"coordinates\":{\"x\":400,\"y\":305,\"stage_width\":...</td>\n",
       "      <td>ffd2871d</td>\n",
       "      <td>331</td>\n",
       "      <td>4070</td>\n",
       "      <td>601961</td>\n",
       "      <td>Bottle Filler (Activity)</td>\n",
       "      <td>Activity</td>\n",
       "      <td>MAGMAPEAK</td>\n",
       "    </tr>\n",
       "    <tr>\n",
       "      <th>1697634</th>\n",
       "      <td>15a43e5b</td>\n",
       "      <td>55ae180cd1d87496</td>\n",
       "      <td>2019-08-07 13:20:34.686000+00:00</td>\n",
       "      <td>{\"coordinates\":{\"x\":483,\"y\":302,\"stage_width\":...</td>\n",
       "      <td>ffd2871d</td>\n",
       "      <td>332</td>\n",
       "      <td>4070</td>\n",
       "      <td>601961</td>\n",
       "      <td>Bottle Filler (Activity)</td>\n",
       "      <td>Activity</td>\n",
       "      <td>MAGMAPEAK</td>\n",
       "    </tr>\n",
       "    <tr>\n",
       "      <th>1697635</th>\n",
       "      <td>15a43e5b</td>\n",
       "      <td>55ae180cd1d87496</td>\n",
       "      <td>2019-08-07 13:20:34.785000+00:00</td>\n",
       "      <td>{\"coordinates\":{\"x\":350,\"y\":303,\"stage_width\":...</td>\n",
       "      <td>ffd2871d</td>\n",
       "      <td>333</td>\n",
       "      <td>4070</td>\n",
       "      <td>601961</td>\n",
       "      <td>Bottle Filler (Activity)</td>\n",
       "      <td>Activity</td>\n",
       "      <td>MAGMAPEAK</td>\n",
       "    </tr>\n",
       "    <tr>\n",
       "      <th>1697636</th>\n",
       "      <td>15a43e5b</td>\n",
       "      <td>55ae180cd1d87496</td>\n",
       "      <td>2019-08-07 13:20:34.881000+00:00</td>\n",
       "      <td>{\"coordinates\":{\"x\":482,\"y\":302,\"stage_width\":...</td>\n",
       "      <td>ffd2871d</td>\n",
       "      <td>334</td>\n",
       "      <td>4070</td>\n",
       "      <td>601961</td>\n",
       "      <td>Bottle Filler (Activity)</td>\n",
       "      <td>Activity</td>\n",
       "      <td>MAGMAPEAK</td>\n",
       "    </tr>\n",
       "    <tr>\n",
       "      <th>1697637</th>\n",
       "      <td>15a43e5b</td>\n",
       "      <td>55ae180cd1d87496</td>\n",
       "      <td>2019-08-07 13:20:34.973000+00:00</td>\n",
       "      <td>{\"coordinates\":{\"x\":404,\"y\":302,\"stage_width\":...</td>\n",
       "      <td>ffd2871d</td>\n",
       "      <td>335</td>\n",
       "      <td>4070</td>\n",
       "      <td>601961</td>\n",
       "      <td>Bottle Filler (Activity)</td>\n",
       "      <td>Activity</td>\n",
       "      <td>MAGMAPEAK</td>\n",
       "    </tr>\n",
       "  </tbody>\n",
       "</table>\n",
       "<p>1697638 rows × 11 columns</p>\n",
       "</div>"
      ],
      "text/plain": [
       "         event_id      game_session                        timestamp  \\\n",
       "0        27253bdc  a9fbd6119581ac51 2019-09-14 15:04:34.845000+00:00   \n",
       "1        27253bdc  bbc818719db7d1f8 2019-09-14 15:04:55.292000+00:00   \n",
       "2        c7f7f0e1  e6298f19b82e25a4 2019-09-14 15:05:30.976000+00:00   \n",
       "3        0a08139c  e6298f19b82e25a4 2019-09-14 15:05:31.196000+00:00   \n",
       "4        e79f3763  e6298f19b82e25a4 2019-09-14 15:05:32.986000+00:00   \n",
       "...           ...               ...                              ...   \n",
       "1697633  15a43e5b  55ae180cd1d87496 2019-08-07 13:20:34.604000+00:00   \n",
       "1697634  15a43e5b  55ae180cd1d87496 2019-08-07 13:20:34.686000+00:00   \n",
       "1697635  15a43e5b  55ae180cd1d87496 2019-08-07 13:20:34.785000+00:00   \n",
       "1697636  15a43e5b  55ae180cd1d87496 2019-08-07 13:20:34.881000+00:00   \n",
       "1697637  15a43e5b  55ae180cd1d87496 2019-08-07 13:20:34.973000+00:00   \n",
       "\n",
       "                                                event_data installation_id  \\\n",
       "0                   {\"event_code\": 2000, \"event_count\": 1}        0006c192   \n",
       "1                   {\"event_code\": 2000, \"event_count\": 1}        0006c192   \n",
       "2        {\"version\":\"1.0\",\"event_count\":1,\"game_time\":0...        0006c192   \n",
       "3        {\"description\":\"walk_in Check it out! This is ...        0006c192   \n",
       "4        {\"bug\":\"caterpillar\",\"source\":\"resources\",\"coo...        0006c192   \n",
       "...                                                    ...             ...   \n",
       "1697633  {\"coordinates\":{\"x\":400,\"y\":305,\"stage_width\":...        ffd2871d   \n",
       "1697634  {\"coordinates\":{\"x\":483,\"y\":302,\"stage_width\":...        ffd2871d   \n",
       "1697635  {\"coordinates\":{\"x\":350,\"y\":303,\"stage_width\":...        ffd2871d   \n",
       "1697636  {\"coordinates\":{\"x\":482,\"y\":302,\"stage_width\":...        ffd2871d   \n",
       "1697637  {\"coordinates\":{\"x\":404,\"y\":302,\"stage_width\":...        ffd2871d   \n",
       "\n",
       "         event_count  event_code  game_time                     title  \\\n",
       "0                  1        2000          0   Welcome to Lost Lagoon!   \n",
       "1                  1        2000          0   Tree Top City - Level 1   \n",
       "2                  1        2000          0   Bug Measurer (Activity)   \n",
       "3                  2        3010        246   Bug Measurer (Activity)   \n",
       "4                  3        4030       2101   Bug Measurer (Activity)   \n",
       "...              ...         ...        ...                       ...   \n",
       "1697633          331        4070     601961  Bottle Filler (Activity)   \n",
       "1697634          332        4070     601961  Bottle Filler (Activity)   \n",
       "1697635          333        4070     601961  Bottle Filler (Activity)   \n",
       "1697636          334        4070     601961  Bottle Filler (Activity)   \n",
       "1697637          335        4070     601961  Bottle Filler (Activity)   \n",
       "\n",
       "             type        world  \n",
       "0            Clip         NONE  \n",
       "1            Clip  TREETOPCITY  \n",
       "2        Activity  TREETOPCITY  \n",
       "3        Activity  TREETOPCITY  \n",
       "4        Activity  TREETOPCITY  \n",
       "...           ...          ...  \n",
       "1697633  Activity    MAGMAPEAK  \n",
       "1697634  Activity    MAGMAPEAK  \n",
       "1697635  Activity    MAGMAPEAK  \n",
       "1697636  Activity    MAGMAPEAK  \n",
       "1697637  Activity    MAGMAPEAK  \n",
       "\n",
       "[1697638 rows x 11 columns]"
      ]
     },
     "execution_count": 48,
     "metadata": {},
     "output_type": "execute_result"
    }
   ],
   "source": [
    "train_copy = train.copy()\n",
    "train_copy.index = train_copy['timestamp']\n",
    "train_copy.head()\n",
    "train_copy.between_time(start_time, end_time).reset_index(drop=True)"
   ]
  },
  {
   "cell_type": "code",
   "execution_count": 49,
   "metadata": {},
   "outputs": [
    {
     "data": {
      "text/plain": [
       "(7734558, 11)"
      ]
     },
     "execution_count": 49,
     "metadata": {},
     "output_type": "execute_result"
    }
   ],
   "source": [
    "train_copy.shape"
   ]
  },
  {
   "cell_type": "code",
   "execution_count": 50,
   "metadata": {},
   "outputs": [],
   "source": [
    "train_raw = train.copy()  # just in case we need the original data\n",
    "\n",
    "train = pd.merge(train, train_labels, on=['installation_id', 'game_session'], how='left')"
   ]
  },
  {
   "cell_type": "code",
   "execution_count": 51,
   "metadata": {},
   "outputs": [],
   "source": [
    "train_cuts = train[(train['event_code'] == 2000) & \n",
    "                   (train['type'] == 'Assessment') & \n",
    "                   (train['accuracy_group'].notnull())]"
   ]
  },
  {
   "cell_type": "code",
   "execution_count": 52,
   "metadata": {},
   "outputs": [
    {
     "data": {
      "text/plain": [
       "(17690, 17690)"
      ]
     },
     "execution_count": 52,
     "metadata": {},
     "output_type": "execute_result"
    }
   ],
   "source": [
    "combos = train_cuts['installation_id'] + train_cuts['game_session']\n",
    "combos.nunique(), combos.count()  # make sure there are no duplicates"
   ]
  },
  {
   "cell_type": "code",
   "execution_count": 53,
   "metadata": {},
   "outputs": [
    {
     "name": "stdout",
     "output_type": "stream",
     "text": [
      "progress = 5.652911249293386%\n",
      "progress = 11.305822498586773%\n",
      "progress = 16.95873374788016%\n",
      "progress = 22.611644997173546%\n",
      "progress = 28.26455624646693%\n",
      "progress = 33.91746749576032%\n",
      "progress = 39.5703787450537%\n",
      "progress = 45.22328999434709%\n",
      "progress = 50.87620124364047%\n",
      "progress = 56.52911249293386%\n",
      "progress = 62.182023742227244%\n",
      "progress = 67.83493499152064%\n",
      "progress = 73.48784624081401%\n",
      "progress = 79.1407574901074%\n",
      "progress = 84.7936687394008%\n",
      "progress = 90.44657998869418%\n",
      "progress = 96.09949123798756%\n",
      "Wall time: 2h 53min 30s\n"
     ]
    },
    {
     "data": {
      "text/plain": [
       "((17577, 5), 17577)"
      ]
     },
     "execution_count": 53,
     "metadata": {},
     "output_type": "execute_result"
    }
   ],
   "source": [
    "%%time\n",
    "\n",
    "count = 0\n",
    "X, y = [], []\n",
    "for i, row in train_cuts.iterrows():\n",
    "    count += 1\n",
    "    installation_id, game_session = row['installation_id'], row['game_session']\n",
    "    df = train[train['installation_id'] == installation_id]\n",
    "    # get the timestamp of the cut row\n",
    "    cut_time = df.loc[i,'timestamp']\n",
    "    # cut the df\n",
    "    df = df[df['timestamp'] <= cut_time]\n",
    "    # cut off last row (assumes df is sorted by time)\n",
    "    df = df.iloc[:-1,:]\n",
    "    if df.empty:\n",
    "        continue\n",
    "    df['accuracy_group'] = row['accuracy_group']\n",
    "    \n",
    "    \n",
    "    feature = {'installation_id': installation_id,\n",
    "               'game_session': game_session,\n",
    "               'num_events_during_school_hours': num_events_during_school_hours(df),\n",
    "               'total_number_of_misses': total_number_of_misses(df),\n",
    "               'percentage_of_misses': percentage_of_misses(df)}\n",
    "    \n",
    "    \n",
    "    X.append(feature)\n",
    "    y.append(row['accuracy_group'])\n",
    "    \n",
    "    if count % 1000 == 0:\n",
    "        print('progress = {}%'.format(count/17690*100))\n",
    "    \n",
    "#     if count > 250:  # note we're just making features for the first n cuts\n",
    "#         break\n",
    "\n",
    "X = pd.DataFrame(X)\n",
    "X.shape, len(y)"
   ]
  },
  {
   "cell_type": "code",
   "execution_count": 54,
   "metadata": {},
   "outputs": [],
   "source": [
    "X.to_csv('../features/conlon_features.csv', index=False)"
   ]
  },
  {
   "cell_type": "code",
   "execution_count": 24,
   "metadata": {},
   "outputs": [
    {
     "data": {
      "text/plain": [
       "(17577, 5)"
      ]
     },
     "execution_count": 24,
     "metadata": {},
     "output_type": "execute_result"
    }
   ],
   "source": [
    "X.shape"
   ]
  }
 ],
 "metadata": {
  "kernelspec": {
   "display_name": "Python 3",
   "language": "python",
   "name": "python3"
  },
  "language_info": {
   "codemirror_mode": {
    "name": "ipython",
    "version": 3
   },
   "file_extension": ".py",
   "mimetype": "text/x-python",
   "name": "python",
   "nbconvert_exporter": "python",
   "pygments_lexer": "ipython3",
   "version": "3.7.4"
  }
 },
 "nbformat": 4,
 "nbformat_minor": 2
}
