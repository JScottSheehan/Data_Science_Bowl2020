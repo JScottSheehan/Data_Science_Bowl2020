{
 "cells": [
  {
   "cell_type": "code",
   "execution_count": 27,
   "metadata": {},
   "outputs": [],
   "source": [
    "import pandas as pd\n",
    "import numpy as np\n",
    "import glob"
   ]
  },
  {
   "cell_type": "code",
   "execution_count": 28,
   "metadata": {},
   "outputs": [
    {
     "data": {
      "text/plain": [
       "['features\\\\emily_features.csv',\n",
       " 'features\\\\labels.csv',\n",
       " 'features\\\\sheehan_features.csv']"
      ]
     },
     "execution_count": 28,
     "metadata": {},
     "output_type": "execute_result"
    }
   ],
   "source": [
    "files = glob.glob('features/*.csv')\n",
    "files"
   ]
  },
  {
   "cell_type": "code",
   "execution_count": 29,
   "metadata": {},
   "outputs": [
    {
     "data": {
      "text/plain": [
       "(17577, 33)"
      ]
     },
     "execution_count": 29,
     "metadata": {},
     "output_type": "execute_result"
    }
   ],
   "source": [
    "dflist = []\n",
    "for f in files:\n",
    "    df = pd.read_csv(f)\n",
    "    dflist.append(df)\n",
    "    \n",
    "df = pd.concat(dflist, axis=1)\n",
    "df.shape"
   ]
  },
  {
   "cell_type": "code",
   "execution_count": 30,
   "metadata": {},
   "outputs": [
    {
     "data": {
      "text/plain": [
       "(17577, 31)"
      ]
     },
     "execution_count": 30,
     "metadata": {},
     "output_type": "execute_result"
    }
   ],
   "source": [
    "exclude_cols = ['Unnamed: 0', 'installation_id', 'game_session']\n",
    "df = df[[col for col in df.columns if col not in exclude_cols]]\n",
    "df.shape"
   ]
  },
  {
   "cell_type": "code",
   "execution_count": 31,
   "metadata": {},
   "outputs": [],
   "source": [
    "# to fix class imbalance\n",
    "df['labels'] = df['labels'].astype('int64')\n",
    "\n",
    "zeros = df[df['labels'] == 0]\n",
    "ones = df[df['labels'] == 1]\n",
    "twos = df[df['labels'] == 2]\n",
    "\n",
    "df = pd.concat([df, zeros, ones, ones, ones, twos, twos, twos])"
   ]
  },
  {
   "cell_type": "code",
   "execution_count": 32,
   "metadata": {},
   "outputs": [],
   "source": [
    "y = df['labels']\n",
    "del df['labels']"
   ]
  },
  {
   "cell_type": "code",
   "execution_count": 33,
   "metadata": {},
   "outputs": [
    {
     "data": {
      "text/plain": [
       "(35533, 30)"
      ]
     },
     "execution_count": 33,
     "metadata": {},
     "output_type": "execute_result"
    }
   ],
   "source": [
    "df.shape"
   ]
  },
  {
   "cell_type": "code",
   "execution_count": 34,
   "metadata": {},
   "outputs": [],
   "source": [
    "avg_assessment_accuracy = df['avg_assessment_accuracy'].mean()\n",
    "avg_assessment_time = df['avg_assessment_time'].mean()\n",
    "\n",
    "fill_vals = {'avg_assessment_accuracy': avg_assessment_accuracy,\n",
    "             'avg_assessment_time': avg_assessment_time,\n",
    "             'prev_assessment_accuracy': avg_assessment_accuracy,\n",
    "             'assessment_taken': 0,\n",
    "             'times_took_asses': 0\n",
    "             }\n",
    "\n",
    "df.fillna(fill_vals, inplace=True)"
   ]
  },
  {
   "cell_type": "code",
   "execution_count": 35,
   "metadata": {},
   "outputs": [],
   "source": [
    "X = df"
   ]
  },
  {
   "cell_type": "code",
   "execution_count": 36,
   "metadata": {
    "scrolled": true
   },
   "outputs": [
    {
     "name": "stderr",
     "output_type": "stream",
     "text": [
      "C:\\Users\\593939\\AppData\\Local\\Continuum\\anaconda3\\lib\\site-packages\\sklearn\\utils\\validation.py:475: DataConversionWarning: Data with input dtype int64 was converted to float64 by StandardScaler.\n",
      "  warnings.warn(msg, DataConversionWarning)\n"
     ]
    }
   ],
   "source": [
    "from sklearn.preprocessing import StandardScaler\n",
    "\n",
    "X2 = X.copy()\n",
    "for col in X2.columns:\n",
    "    scaler = StandardScaler()\n",
    "    data = np.array(X2[col]).reshape(-1, 1)\n",
    "    scaler.fit(data)\n",
    "    X2[col] = scaler.transform(data)"
   ]
  },
  {
   "cell_type": "code",
   "execution_count": 37,
   "metadata": {},
   "outputs": [
    {
     "name": "stdout",
     "output_type": "stream",
     "text": [
      "Run 1/5 -- kappa_score: 0.691865072486128\n",
      "Run 2/5 -- kappa_score: 0.6946123876255179\n",
      "Run 3/5 -- kappa_score: 0.6740761655879589\n",
      "Run 4/5 -- kappa_score: 0.6786301698034738\n",
      "Run 5/5 -- kappa_score: 0.6927399014396027\n",
      "\n",
      "mean score: 0.6863847393885362\n"
     ]
    }
   ],
   "source": [
    "from sklearn import tree\n",
    "from sklearn.metrics import cohen_kappa_score\n",
    "from sklearn.model_selection import StratifiedKFold\n",
    "\n",
    "model = tree.DecisionTreeClassifier\n",
    "k_folds = 5\n",
    "skf = StratifiedKFold(n_splits=k_folds, shuffle=True)\n",
    "\n",
    "X, y = np.array(X), np.array(y)\n",
    "total_runs = skf.get_n_splits()\n",
    "scores = []\n",
    "count = 0\n",
    "for train_index, test_index in skf.split(X, y):\n",
    "    count += 1\n",
    "    X_train, X_test = X[train_index], X[test_index]\n",
    "    y_train, y_test = y[train_index], y[test_index]\n",
    "    clf = model()\n",
    "    clf = clf.fit(X_train, y_train)\n",
    "    score = cohen_kappa_score(clf.predict(X_test), y_test, weights='quadratic')\n",
    "    scores.append(score)\n",
    "    print('Run {}/{} -- kappa_score: {}'.format(count, total_runs, score))\n",
    "print('\\nmean score: {}'.format(sum(scores)/len(scores))) "
   ]
  },
  {
   "cell_type": "code",
   "execution_count": 127,
   "metadata": {},
   "outputs": [
    {
     "name": "stdout",
     "output_type": "stream",
     "text": [
      "Run 1/5 -- kappa_score: 0.6026190039710442\n",
      "Run 2/5 -- kappa_score: 0.5758403198600048\n",
      "Run 3/5 -- kappa_score: 0.5705334143075844\n",
      "Run 4/5 -- kappa_score: 0.5795979639568171\n",
      "Run 5/5 -- kappa_score: 0.5853871022940575\n",
      "\n",
      "mean score: 0.5827955608779016\n"
     ]
    }
   ],
   "source": [
    "from sklearn import tree\n",
    "from sklearn.metrics import cohen_kappa_score\n",
    "from sklearn.model_selection import StratifiedKFold\n",
    "from sklearn.linear_model import RidgeClassifier\n",
    "\n",
    "model = tree.DecisionTreeClassifier\n",
    "k_folds = 5\n",
    "skf = StratifiedKFold(n_splits=k_folds, shuffle=True)\n",
    "\n",
    "X, y = np.array(X2), np.array(y)\n",
    "total_runs = skf.get_n_splits()\n",
    "scores = []\n",
    "count = 0\n",
    "for train_index, test_index in skf.split(X, y):\n",
    "    count += 1\n",
    "    X_train, X_test = X[train_index], X[test_index]\n",
    "    y_train, y_test = y[train_index], y[test_index]\n",
    "    clf = model()\n",
    "    clf = clf.fit(X_train, y_train)\n",
    "    score = cohen_kappa_score(clf.predict(X_test), y_test, weights='quadratic')\n",
    "    scores.append(score)\n",
    "    print('Run {}/{} -- kappa_score: {}'.format(count, total_runs, score))\n",
    "print('\\nmean score: {}'.format(sum(scores)/len(scores))) "
   ]
  },
  {
   "cell_type": "code",
   "execution_count": null,
   "metadata": {},
   "outputs": [],
   "source": []
  },
  {
   "cell_type": "code",
   "execution_count": null,
   "metadata": {},
   "outputs": [],
   "source": []
  }
 ],
 "metadata": {
  "kernelspec": {
   "display_name": "Python 3",
   "language": "python",
   "name": "python3"
  },
  "language_info": {
   "codemirror_mode": {
    "name": "ipython",
    "version": 3
   },
   "file_extension": ".py",
   "mimetype": "text/x-python",
   "name": "python",
   "nbconvert_exporter": "python",
   "pygments_lexer": "ipython3",
   "version": "3.7.1"
  }
 },
 "nbformat": 4,
 "nbformat_minor": 2
}
